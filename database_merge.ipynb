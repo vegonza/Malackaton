{
 "cells": [
  {
   "cell_type": "code",
   "execution_count": null,
   "metadata": {},
   "outputs": [],
   "source": [
    "import pandas as pd\n",
    "from fuzzywuzzy import fuzz, process\n",
    "import unidecode\n",
    "\n",
    "def normalize(text):\n",
    "    return unidecode.unidecode(text).upper()\n",
    "\n",
    "df_embalses = pd.read_csv('embalsesUTF8.csv')  # Archivo con ID, AMBITO_NOMBRE, EMBALSE_NOMBRE, etc.\n",
    "df_listado = pd.read_csv('listadoUTF8-3.tsv', delimiter='\\t')  # Archivo con CODIGO, NOMBRE, EMBALSE, etc.\n",
    "\n",
    "df_listado['EMBALSE_NORMALIZADO'] = df_listado['EMBALSE'].apply(normalize)\n",
    "\n",
    "embalse_list = df_listado['EMBALSE_NORMALIZADO'].tolist()\n",
    "\n",
    "merge_result = []\n",
    "similarity_threshold = 75\n",
    "\n",
    "for index_embalses, row_embalses in df_embalses.iterrows():\n",
    "    embalse_nombre = normalize(row_embalses['EMBALSE_NOMBRE'])\n",
    "    \n",
    "    best_match, best_score = process.extractOne(\n",
    "        embalse_nombre, \n",
    "        embalse_list,\n",
    "        scorer=fuzz.token_set_ratio\n",
    "    )\n",
    "    \n",
    "    if best_score > similarity_threshold:\n",
    "        best_match_row = df_listado[df_listado['EMBALSE_NORMALIZADO'] == best_match].iloc[0]\n",
    "        combined_row = {**row_embalses, **best_match_row}\n",
    "        merge_result.append(combined_row)\n",
    "        print(\"match:\", embalse_nombre, \"<->\", best_match, \"score:\", best_score)\n",
    "\n",
    "df_combinado = pd.DataFrame(merge_result)\n",
    "df_combinado.to_csv('embalses_combinado.csv', index=False)"
   ]
  }
 ],
 "metadata": {
  "kernelspec": {
   "display_name": "venv",
   "language": "python",
   "name": "python3"
  },
  "language_info": {
   "name": "python",
   "version": "3.12.3"
  }
 },
 "nbformat": 4,
 "nbformat_minor": 2
}
